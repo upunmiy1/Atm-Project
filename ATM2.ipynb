{
 "cells": [
  {
   "cell_type": "code",
   "execution_count": 27,
   "metadata": {},
   "outputs": [
    {
     "name": "stdout",
     "output_type": "stream",
     "text": [
      "Enter the PIN: 1234\n",
      "Correct:\n",
      "\n",
      "Enter the amount to withdraw:935\n",
      "Transaction Successful, Number of 20 bills: 46\n",
      "Transaction Successful, Number of 10 bills: 1\n",
      "Transaction Successful, Number of 5 bills: 1\n"
     ]
    }
   ],
   "source": [
    "#Intitialization Code\n",
    "Pin = 1234        \n",
    "Starting_balance = 10000\n",
    "twenty = 0\n",
    "ten = 0\n",
    "five = 0\n",
    "Pin_entry = int(input(\"Enter the PIN: \"))  #Takes the input from user for pin\n",
    "\n",
    "#Main Code\n",
    "if Pin_entry == Pin:\n",
    "    print(\"Correct:\\n\")\n",
    "    \n",
    "    Withdraw = int(input(\"Enter the amount to withdraw:\")) #takes the input from user for money to witghdraw\n",
    "    \n",
    "    if Withdraw <= Starting_balance:\n",
    "        twenty = int(Withdraw/20)\n",
    "        x = int(Withdraw%20)             #gives the remainder for the rest of money after being divided by 20\n",
    "        ten = int(x/10)              \n",
    "        y = int(x%10)                    #gives the remainder after being divided by 10\n",
    "        five = int(y/5)\n",
    "        print(\"Transaction Successful, Number of 20 bills:\", twenty)\n",
    "        print(\"Transaction Successful, Number of 10 bills:\", ten)\n",
    "        print(\"Transaction Successful, Number of 5 bills:\", five)\n",
    "        \n",
    "        \n",
    "    else:\n",
    "        print(\"Invalid Entry, Do you want to proceed?\\n\")\n",
    "        K = str(input())                #takes input from user inorder to move ahead\n",
    "        \n",
    "        if K == 'YES':\n",
    "            print(\"You have been charged with penalty for: 20 $\")\n",
    "        else:\n",
    "            print(\"Returning to the main Window.\")\n",
    "        \n",
    "else:\n",
    "    print(\"Incorrect PIN\")"
   ]
  },
  {
   "cell_type": "code",
   "execution_count": null,
   "metadata": {},
   "outputs": [],
   "source": []
  },
  {
   "cell_type": "code",
   "execution_count": null,
   "metadata": {},
   "outputs": [],
   "source": []
  }
 ],
 "metadata": {
  "kernelspec": {
   "display_name": "Python 3",
   "language": "python",
   "name": "python3"
  },
  "language_info": {
   "codemirror_mode": {
    "name": "ipython",
    "version": 3
   },
   "file_extension": ".py",
   "mimetype": "text/x-python",
   "name": "python",
   "nbconvert_exporter": "python",
   "pygments_lexer": "ipython3",
   "version": "3.6.5"
  }
 },
 "nbformat": 4,
 "nbformat_minor": 2
}
